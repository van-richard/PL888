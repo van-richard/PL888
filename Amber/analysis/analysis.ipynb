{
 "cells": [
  {
   "cell_type": "code",
   "execution_count": 1,
   "id": "ab684006-26e7-4add-94ae-f928358f7f1f",
   "metadata": {},
   "outputs": [],
   "source": [
    "import os\n",
    "import pytraj as pt\n",
    "import matplotlib.pyplot as plt"
   ]
  },
  {
   "cell_type": "code",
   "execution_count": 4,
   "id": "06c46198-a8c6-4979-98fd-ea4228c34af1",
   "metadata": {},
   "outputs": [],
   "source": [
    "\n",
    "def rmsd(traj, ambermask='@CA'):\n",
    "    return pt.rmsd(traj, mask=ambermask)\n",
    "\n",
    "def pairwise_rmsd(traj, ambermask='@CA'):\n",
    "    return pt.pairwise_rmsd(traj, mask=ambermask)\n",
    "\n",
    "def pca(traj,ambermask, num_vecs):\n",
    "    results = pt.pca(traj, mask=ambermask, n_vecs=num_vecs)\n",
    "    return results\n",
    "    \n",
    "#     data = results[0]\n",
    "#     pc1_proj = data[1][0]\n",
    "#     pc2_proj= data[1][1]\n",
    "# \n",
    "#    pc1_var = pc1_proj[0] / np.sum(pc1_proj[:]) \n",
    "#    pc2_var = pc2_proj[0] / np.sum(pc2_proj[:]) \n",
    "\n",
    "\n"
   ]
  },
  {
   "cell_type": "code",
   "execution_count": null,
   "id": "e34f0e73-e4bb-4838-9a4a-7672c62d8fc4",
   "metadata": {},
   "outputs": [],
   "source": []
  }
 ],
 "metadata": {
  "kernelspec": {
   "display_name": "Python [conda env:ambertools]",
   "language": "python",
   "name": "conda-env-ambertools-py"
  },
  "language_info": {
   "codemirror_mode": {
    "name": "ipython",
    "version": 3
   },
   "file_extension": ".py",
   "mimetype": "text/x-python",
   "name": "python",
   "nbconvert_exporter": "python",
   "pygments_lexer": "ipython3",
   "version": "3.12.3"
  }
 },
 "nbformat": 4,
 "nbformat_minor": 5
}
