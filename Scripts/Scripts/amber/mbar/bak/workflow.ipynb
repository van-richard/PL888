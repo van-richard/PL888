{
 "cells": [
  {
   "cell_type": "code",
   "execution_count": null,
   "id": "f0193452-c98b-4beb-b298-ae520b196d1b",
   "metadata": {},
   "outputs": [],
   "source": [
    "import os, sys\n",
    "sys.path.append('/home/van/Scripts/mbar')\n",
    "\n",
    "def find_subdirectories():\n",
    "    return next(os.walk(f'{path}'))[1]\n",
    "\n",
    "def find_windows():\n",
    "    windows = []\n",
    "    subdirs = find_subdirectories()\n",
    "    for subdir in subdirs:\n",
    "        if len(subdir) == 2 and subdir.isdigit():\n",
    "            sim_dirs.append(subdir)\n",
    "    return sorted(windows)\n",
    "\n",
    "def find_cv_rst(path):\n",
    "    cv_params = []\n",
    "    with open (f'{path}/cv.rst', 'r') as file:\n",
    "        cv_items = file.read().split()\n",
    "        for item in cv_items:\n",
    "            if '=' in item:\n",
    "                cv_params.append(item)\n",
    "    return cv_params[:8] # first rest estting\n",
    "\n",
    "def make_cv_dict():\n",
    "    "
   ]
  },
  {
   "cell_type": "code",
   "execution_count": null,
   "id": "9472c97b",
   "metadata": {},
   "outputs": [],
   "source": []
  },
  {
   "cell_type": "code",
   "execution_count": null,
   "id": "9d85de69-d8b3-497a-abdf-d1cd41ad7cbb",
   "metadata": {},
   "outputs": [],
   "source": [
    "def read_cv(dirname):\n",
    "    cv_params = []\n",
    "    with open (f'{path}/{dirname}/cv.rst', 'r') as file:\n",
    "        cv_items = file.read().split()\n",
    "        for item in cv_items:\n",
    "            if '=' in item:\n",
    "                cv_params.append(item)\n",
    "    return cv_params[:8] # first rest estting\n",
    "\n",
    "def from_cv(dirname):\n",
    "    d = {}\n",
    "    contents = read_cv(dirname)\n",
    "    for content in contents:\n",
    "        (key, val) = content.split('=')\n",
    "        d[key] = val\n",
    "    return d\n",
    "    \n",
    "def read_parameter(windows):\n",
    "    rst_dict = {}\n",
    "    rst_dict['n_windows'] = len(windows)\n",
    "\n",
    "    cv_min = from_cv(window[0])\n",
    "    return rst_dict \n",
    "    "
   ]
  },
  {
   "cell_type": "code",
   "execution_count": null,
   "id": "8cf1bfd0-66df-476c-9849-95f133638947",
   "metadata": {},
   "outputs": [],
   "source": [
    "def init_project(path):\n",
    "    project_path = glob(f'{path}')\n",
    "\n",
    "    windows = get_umbrella_windows()\n",
    "    \n",
    "    rst_dict = read_parameters(windows)\n",
    "    \n",
    "    n_windows = rst_dict['n_windows']\n",
    "    cv_min = rst_dict[windows[0]]\n",
    "    cv_max = rst_dict[windows[-1]]\n",
    "    rst_force = rst_dict['rst_f']"
   ]
  },
  {
   "cell_type": "code",
   "execution_count": null,
   "id": "3d0fd828-0b2a-43d5-99e4-4de4113bd4a2",
   "metadata": {},
   "outputs": [],
   "source": [
    "path = '/scratch/samitha/mt2-b3lyp'\n",
    "\n",
    "n_windows, cv_min, cv_max, rst_force  = init_project(path)"
   ]
  },
  {
   "cell_type": "code",
   "execution_count": 1,
   "id": "1ead25d9-4092-40c7-bf5c-ddeec5e22cbb",
   "metadata": {},
   "outputs": [],
   "source": [
    "def find_project_path():\n",
    "    return glob(f'{path}')\n",
    "\n",
    "def count_subdirectory(path):\n",
    "    return next(os.walk(f'{path}'))[1]\n",
    "\n",
    "\n",
    "class system():\n",
    "    def __init__(self, path):\n",
    "        self.path = path\n",
    "        # self.n_windows = n_windows\n",
    "        # self.cv_min = cv_min\n",
    "        # self.cv_max = cv_max\n",
    "        # self.restraint_force = restraint_force\n",
    "\n",
    "    # def find_windows(self):\n",
    "    #     windows = []\n",
    "    #     subdirs = get_subdirectories()\n",
    "    #     for subdir in subdirs:\n",
    "    #         if len(subdir) == 2 and subdir.isdigit():\n",
    "    #             sim_dirs.append(subdir)\n",
    "    #     windows = sorted(windows)\n",
    "    #     self.n_windows = len(windows)\n",
    "\n",
    "\n",
    "    "
   ]
  },
  {
   "cell_type": "code",
   "execution_count": 2,
   "id": "ffcfa2d3-bb2f-4a56-8a64-1b6e2a550eb3",
   "metadata": {},
   "outputs": [
    {
     "data": {
      "text/plain": [
       "<__main__.system at 0x2ae2cb148f70>"
      ]
     },
     "execution_count": 2,
     "metadata": {},
     "output_type": "execute_result"
    }
   ],
   "source": [
    "path = '/scratch/samitha/mt2-b3lyp'\n",
    "\n",
    "system(path)"
   ]
  },
  {
   "cell_type": "code",
   "execution_count": 3,
   "id": "5ae60fd4-932e-467b-8577-8ec63aebd5b2",
   "metadata": {},
   "outputs": [],
   "source": [
    "import pandas as pd"
   ]
  },
  {
   "cell_type": "code",
   "execution_count": 19,
   "id": "fd4a9785-8fbf-4f2d-a152-83632366eae1",
   "metadata": {},
   "outputs": [],
   "source": [
    "cv_params = []\n",
    "with open (f'{path}/00/cv.rst', 'r') as file:\n",
    "    cv_items = file.read().split()\n",
    "    for item in cv_items:\n",
    "        if '=' in item:\n",
    "            cv_params.append(item)\n",
    "            "
   ]
  },
  {
   "cell_type": "code",
   "execution_count": 25,
   "id": "07eb7f7a-aef7-41b6-b379-5aabb0cf642c",
   "metadata": {},
   "outputs": [
    {
     "name": "stdout",
     "output_type": "stream",
     "text": [
      "iat\n",
      "rstwt\n",
      "r1\n",
      "r2\n",
      "r3\n",
      "r4\n",
      "rk2\n",
      "rk3\n",
      "iat\n",
      "rstwt\n",
      "r1\n",
      "r2\n",
      "r3\n",
      "r4\n",
      "rk2\n",
      "rk3\n",
      "iat\n",
      "rstwt\n",
      "r1\n",
      "r2\n",
      "r3\n",
      "r4\n",
      "rk2\n",
      "rk3\n",
      "iat\n",
      "r1\n",
      "r2\n",
      "r3\n",
      "r4\n",
      "rk2\n",
      "rk3\n"
     ]
    }
   ],
   "source": [
    "cv = [param.split('=') for param in cv_params]\n",
    "for i,j in cv:\n",
    "    "
   ]
  },
  {
   "cell_type": "code",
   "execution_count": 11,
   "id": "9aff112c-cb53-43f8-be3a-df2c365b22bf",
   "metadata": {},
   "outputs": [
    {
     "ename": "ValueError",
     "evalue": "If using all scalar values, you must pass an index",
     "output_type": "error",
     "traceback": [
      "\u001b[0;31m---------------------------------------------------------------------------\u001b[0m",
      "\u001b[0;31mValueError\u001b[0m                                Traceback (most recent call last)",
      "Cell \u001b[0;32mIn[11], line 1\u001b[0m\n\u001b[0;32m----> 1\u001b[0m \u001b[43mpd\u001b[49m\u001b[38;5;241;43m.\u001b[39;49m\u001b[43mDataFrame\u001b[49m\u001b[43m(\u001b[49m\u001b[43md\u001b[49m\u001b[43m)\u001b[49m\n",
      "File \u001b[0;32m/scratch/van/shared_envs/mbar/lib/python3.9/site-packages/pandas/core/frame.py:767\u001b[0m, in \u001b[0;36mDataFrame.__init__\u001b[0;34m(self, data, index, columns, dtype, copy)\u001b[0m\n\u001b[1;32m    761\u001b[0m     mgr \u001b[38;5;241m=\u001b[39m \u001b[38;5;28mself\u001b[39m\u001b[38;5;241m.\u001b[39m_init_mgr(\n\u001b[1;32m    762\u001b[0m         data, axes\u001b[38;5;241m=\u001b[39m{\u001b[38;5;124m\"\u001b[39m\u001b[38;5;124mindex\u001b[39m\u001b[38;5;124m\"\u001b[39m: index, \u001b[38;5;124m\"\u001b[39m\u001b[38;5;124mcolumns\u001b[39m\u001b[38;5;124m\"\u001b[39m: columns}, dtype\u001b[38;5;241m=\u001b[39mdtype, copy\u001b[38;5;241m=\u001b[39mcopy\n\u001b[1;32m    763\u001b[0m     )\n\u001b[1;32m    765\u001b[0m \u001b[38;5;28;01melif\u001b[39;00m \u001b[38;5;28misinstance\u001b[39m(data, \u001b[38;5;28mdict\u001b[39m):\n\u001b[1;32m    766\u001b[0m     \u001b[38;5;66;03m# GH#38939 de facto copy defaults to False only in non-dict cases\u001b[39;00m\n\u001b[0;32m--> 767\u001b[0m     mgr \u001b[38;5;241m=\u001b[39m \u001b[43mdict_to_mgr\u001b[49m\u001b[43m(\u001b[49m\u001b[43mdata\u001b[49m\u001b[43m,\u001b[49m\u001b[43m \u001b[49m\u001b[43mindex\u001b[49m\u001b[43m,\u001b[49m\u001b[43m \u001b[49m\u001b[43mcolumns\u001b[49m\u001b[43m,\u001b[49m\u001b[43m \u001b[49m\u001b[43mdtype\u001b[49m\u001b[38;5;241;43m=\u001b[39;49m\u001b[43mdtype\u001b[49m\u001b[43m,\u001b[49m\u001b[43m \u001b[49m\u001b[43mcopy\u001b[49m\u001b[38;5;241;43m=\u001b[39;49m\u001b[43mcopy\u001b[49m\u001b[43m,\u001b[49m\u001b[43m \u001b[49m\u001b[43mtyp\u001b[49m\u001b[38;5;241;43m=\u001b[39;49m\u001b[43mmanager\u001b[49m\u001b[43m)\u001b[49m\n\u001b[1;32m    768\u001b[0m \u001b[38;5;28;01melif\u001b[39;00m \u001b[38;5;28misinstance\u001b[39m(data, ma\u001b[38;5;241m.\u001b[39mMaskedArray):\n\u001b[1;32m    769\u001b[0m     \u001b[38;5;28;01mfrom\u001b[39;00m \u001b[38;5;21;01mnumpy\u001b[39;00m\u001b[38;5;21;01m.\u001b[39;00m\u001b[38;5;21;01mma\u001b[39;00m \u001b[38;5;28;01mimport\u001b[39;00m mrecords\n",
      "File \u001b[0;32m/scratch/van/shared_envs/mbar/lib/python3.9/site-packages/pandas/core/internals/construction.py:503\u001b[0m, in \u001b[0;36mdict_to_mgr\u001b[0;34m(data, index, columns, dtype, typ, copy)\u001b[0m\n\u001b[1;32m    499\u001b[0m     \u001b[38;5;28;01melse\u001b[39;00m:\n\u001b[1;32m    500\u001b[0m         \u001b[38;5;66;03m# dtype check to exclude e.g. range objects, scalars\u001b[39;00m\n\u001b[1;32m    501\u001b[0m         arrays \u001b[38;5;241m=\u001b[39m [x\u001b[38;5;241m.\u001b[39mcopy() \u001b[38;5;28;01mif\u001b[39;00m \u001b[38;5;28mhasattr\u001b[39m(x, \u001b[38;5;124m\"\u001b[39m\u001b[38;5;124mdtype\u001b[39m\u001b[38;5;124m\"\u001b[39m) \u001b[38;5;28;01melse\u001b[39;00m x \u001b[38;5;28;01mfor\u001b[39;00m x \u001b[38;5;129;01min\u001b[39;00m arrays]\n\u001b[0;32m--> 503\u001b[0m \u001b[38;5;28;01mreturn\u001b[39;00m \u001b[43marrays_to_mgr\u001b[49m\u001b[43m(\u001b[49m\u001b[43marrays\u001b[49m\u001b[43m,\u001b[49m\u001b[43m \u001b[49m\u001b[43mcolumns\u001b[49m\u001b[43m,\u001b[49m\u001b[43m \u001b[49m\u001b[43mindex\u001b[49m\u001b[43m,\u001b[49m\u001b[43m \u001b[49m\u001b[43mdtype\u001b[49m\u001b[38;5;241;43m=\u001b[39;49m\u001b[43mdtype\u001b[49m\u001b[43m,\u001b[49m\u001b[43m \u001b[49m\u001b[43mtyp\u001b[49m\u001b[38;5;241;43m=\u001b[39;49m\u001b[43mtyp\u001b[49m\u001b[43m,\u001b[49m\u001b[43m \u001b[49m\u001b[43mconsolidate\u001b[49m\u001b[38;5;241;43m=\u001b[39;49m\u001b[43mcopy\u001b[49m\u001b[43m)\u001b[49m\n",
      "File \u001b[0;32m/scratch/van/shared_envs/mbar/lib/python3.9/site-packages/pandas/core/internals/construction.py:114\u001b[0m, in \u001b[0;36marrays_to_mgr\u001b[0;34m(arrays, columns, index, dtype, verify_integrity, typ, consolidate)\u001b[0m\n\u001b[1;32m    111\u001b[0m \u001b[38;5;28;01mif\u001b[39;00m verify_integrity:\n\u001b[1;32m    112\u001b[0m     \u001b[38;5;66;03m# figure out the index, if necessary\u001b[39;00m\n\u001b[1;32m    113\u001b[0m     \u001b[38;5;28;01mif\u001b[39;00m index \u001b[38;5;129;01mis\u001b[39;00m \u001b[38;5;28;01mNone\u001b[39;00m:\n\u001b[0;32m--> 114\u001b[0m         index \u001b[38;5;241m=\u001b[39m \u001b[43m_extract_index\u001b[49m\u001b[43m(\u001b[49m\u001b[43marrays\u001b[49m\u001b[43m)\u001b[49m\n\u001b[1;32m    115\u001b[0m     \u001b[38;5;28;01melse\u001b[39;00m:\n\u001b[1;32m    116\u001b[0m         index \u001b[38;5;241m=\u001b[39m ensure_index(index)\n",
      "File \u001b[0;32m/scratch/van/shared_envs/mbar/lib/python3.9/site-packages/pandas/core/internals/construction.py:667\u001b[0m, in \u001b[0;36m_extract_index\u001b[0;34m(data)\u001b[0m\n\u001b[1;32m    664\u001b[0m         \u001b[38;5;28;01mraise\u001b[39;00m \u001b[38;5;167;01mValueError\u001b[39;00m(\u001b[38;5;124m\"\u001b[39m\u001b[38;5;124mPer-column arrays must each be 1-dimensional\u001b[39m\u001b[38;5;124m\"\u001b[39m)\n\u001b[1;32m    666\u001b[0m \u001b[38;5;28;01mif\u001b[39;00m \u001b[38;5;129;01mnot\u001b[39;00m indexes \u001b[38;5;129;01mand\u001b[39;00m \u001b[38;5;129;01mnot\u001b[39;00m raw_lengths:\n\u001b[0;32m--> 667\u001b[0m     \u001b[38;5;28;01mraise\u001b[39;00m \u001b[38;5;167;01mValueError\u001b[39;00m(\u001b[38;5;124m\"\u001b[39m\u001b[38;5;124mIf using all scalar values, you must pass an index\u001b[39m\u001b[38;5;124m\"\u001b[39m)\n\u001b[1;32m    669\u001b[0m \u001b[38;5;28;01mif\u001b[39;00m have_series:\n\u001b[1;32m    670\u001b[0m     index \u001b[38;5;241m=\u001b[39m union_indexes(indexes)\n",
      "\u001b[0;31mValueError\u001b[0m: If using all scalar values, you must pass an index"
     ]
    }
   ],
   "source": [
    "pd.DataFrame(d)"
   ]
  },
  {
   "cell_type": "code",
   "execution_count": 12,
   "id": "07d73230-11e1-41d3-a834-1c0411770bcf",
   "metadata": {},
   "outputs": [
    {
     "data": {
      "text/plain": [
       "{'iat': '1,5,6,',\n",
       " 'rstwt': '1.,-1.,',\n",
       " 'r1': '0.0,',\n",
       " 'r2': '0.0,',\n",
       " 'r3': '0.0,',\n",
       " 'r4': '0.0,',\n",
       " 'rk2': '0.0,',\n",
       " 'rk3': '0.0,'}"
      ]
     },
     "execution_count": 12,
     "metadata": {},
     "output_type": "execute_result"
    }
   ],
   "source": [
    "d"
   ]
  },
  {
   "cell_type": "code",
   "execution_count": null,
   "id": "787a41e6-9eca-4b1d-a4be-d8ac3f23d533",
   "metadata": {},
   "outputs": [],
   "source": []
  }
 ],
 "metadata": {
  "kernelspec": {
   "display_name": "Python [conda env:mbar]",
   "language": "python",
   "name": "conda-env-mbar-py"
  },
  "language_info": {
   "codemirror_mode": {
    "name": "ipython",
    "version": 3
   },
   "file_extension": ".py",
   "mimetype": "text/x-python",
   "name": "python",
   "nbconvert_exporter": "python",
   "pygments_lexer": "ipython3",
   "version": "3.9.19"
  }
 },
 "nbformat": 4,
 "nbformat_minor": 5
}
