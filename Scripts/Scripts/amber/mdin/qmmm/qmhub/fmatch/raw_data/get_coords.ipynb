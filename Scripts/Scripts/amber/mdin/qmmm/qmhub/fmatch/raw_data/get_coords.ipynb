{
 "cells": [
  {
   "cell_type": "code",
   "execution_count": 1,
   "id": "e33ce28e-61e4-4300-a6e3-f32e3100a6fd",
   "metadata": {},
   "outputs": [],
   "source": [
    "import numpy as np"
   ]
  },
  {
   "cell_type": "code",
   "execution_count": 21,
   "id": "c8d529f6-6dc9-4506-a831-b4cc1bb1ea49",
   "metadata": {},
   "outputs": [],
   "source": [
    "qm_atoms = 73\n",
    "n_windows = 42\n",
    "\n",
    "for i in range(n_windows):\n",
    "    qm_coords = []\n",
    "    for j in range(0, 500, 2):\n",
    "        f = np.loadtxt('../../%02d/qmhub/qmmm.inp_%04d' % (i,j), skiprows=1, usecols=(0,1,2), max_rows=73)\n",
    "        qm_coords.append(f)\n",
    "        \n",
    "    np.save('../../%02d/qm_coords.npy' % i, qm_coords)"
   ]
  },
  {
   "cell_type": "code",
   "execution_count": 4,
   "id": "fa882e87-47b8-4345-9ab1-8b3bc0cb74c9",
   "metadata": {},
   "outputs": [],
   "source": [
    "qm_coords = np.load(\"../../00/qm_coords.npy\")"
   ]
  },
  {
   "cell_type": "code",
   "execution_count": 5,
   "id": "faf262ac-e1c9-4be2-a402-b0457d9db269",
   "metadata": {},
   "outputs": [
    {
     "data": {
      "text/plain": [
       "(250, 73, 3)"
      ]
     },
     "execution_count": 5,
     "metadata": {},
     "output_type": "execute_result"
    }
   ],
   "source": [
    "qm_coords.shape"
   ]
  },
  {
   "cell_type": "code",
   "execution_count": 11,
   "id": "32208019-4604-49df-a1ed-dc7d45011bbf",
   "metadata": {},
   "outputs": [],
   "source": [
    "fnames = np.load('mm_charge.npy')"
   ]
  },
  {
   "cell_type": "code",
   "execution_count": 12,
   "id": "684f7bbc-9c8d-402c-8f3b-b4111e92c924",
   "metadata": {},
   "outputs": [
    {
     "data": {
      "text/plain": [
       "(21000, 800)"
      ]
     },
     "execution_count": 12,
     "metadata": {},
     "output_type": "execute_result"
    }
   ],
   "source": [
    "fnames.shape"
   ]
  },
  {
   "cell_type": "code",
   "execution_count": 13,
   "id": "b441b6e1-e645-414b-905d-3c96739a7754",
   "metadata": {},
   "outputs": [
    {
     "data": {
      "text/plain": [
       "array([[-0.06203489,  0.06206307,  0.06228594, ...,  0.99638116,\n",
       "         1.08020175,  1.11606789],\n",
       "       [ 0.06048355, -0.06079051,  0.06153229, ...,  0.99522418,\n",
       "         1.07847846,  1.10930884],\n",
       "       [-0.06150914, -0.06158492,  0.06171222, ...,  0.9883914 ,\n",
       "         1.08322942,  1.11176395],\n",
       "       ...,\n",
       "       [ 0.060093  ,  0.06014353,  0.06034152, ...,  0.98634553,\n",
       "         1.02696908,  1.10860467],\n",
       "       [ 0.05833534,  0.05836834,  0.05839846, ...,  0.98699152,\n",
       "         1.00567198,  1.11269855],\n",
       "       [ 0.06129451,  0.06131422,  0.06187673, ...,  0.98960894,\n",
       "         1.02618921,  1.10792935]])"
      ]
     },
     "execution_count": 13,
     "metadata": {},
     "output_type": "execute_result"
    }
   ],
   "source": [
    "fnames"
   ]
  },
  {
   "cell_type": "code",
   "execution_count": null,
   "id": "a1436256-d979-4d65-b722-5165fb6190df",
   "metadata": {},
   "outputs": [],
   "source": []
  }
 ],
 "metadata": {
  "kernelspec": {
   "display_name": "Python 3 (ipykernel)",
   "language": "python",
   "name": "python3"
  },
  "language_info": {
   "codemirror_mode": {
    "name": "ipython",
    "version": 3
   },
   "file_extension": ".py",
   "mimetype": "text/x-python",
   "name": "python",
   "nbconvert_exporter": "python",
   "pygments_lexer": "ipython3",
   "version": "3.9.13"
  }
 },
 "nbformat": 4,
 "nbformat_minor": 5
}
