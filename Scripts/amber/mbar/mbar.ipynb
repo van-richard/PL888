{
 "cells": [
  {
   "cell_type": "markdown",
   "execution_count": 2,
   "metadata": {},
   "outputs": [],
   "source": [
    "# MBAR \n"
   ]
  },
  {
   "cell_type": "code",
   "execution_count": 3,
   "metadata": {},
   "outputs": [],
   "source": [
    "import sys\n",
    "import numpy as np\n",
    "from scipy import stats\n",
    "import matplotlib.pyplot as plt\n",
    "from matplotlib.ticker import AutoMinorLocator, LogLocator, NullFormatter\n",
    "from glob import glob\n",
    "from sklearn.utils import resample"
   ]
  },
  {
   "cell_type": "code",
   "execution_count": 4,
   "metadata": {},
   "outputs": [],
   "source": [
    "import pymbar\n",
    "from pymbar.mbar_pmf import mbar_pmf"
   ]
  },
  {
   "cell_type": "code",
   "execution_count": 5,
   "metadata": {},
   "outputs": [
    {
     "data": {
      "text/plain": [
       "'/Users/van/github/CodingNotes/notebooks/02-simulation/analysis'"
      ]
     },
     "execution_count": 5,
     "metadata": {},
     "output_type": "execute_result"
    }
   ],
   "source": [
    "pwd"
   ]
  },
  {
   "cell_type": "code",
   "execution_count": 6,
   "metadata": {},
   "outputs": [],
   "source": [
    "# from glob import glob\n",
    "n_windows = 42\n",
    "val_min = -1.90\n",
    "val_max = 2.20\n",
    "fc = 300.0\n",
    "nbins = n_windows - 1"
   ]
  },
  {
   "cell_type": "code",
   "execution_count": 7,
   "metadata": {},
   "outputs": [],
   "source": [
    "val_kn = []\n",
    "for i in range(n_windows):\n",
    "    fnames = sorted(glob('../test/mbar/%02d/step6.0?_equilibration.cv' % i))\n",
    "    arrays = [np.loadtxt(f, usecols=1)[::] for f in fnames[:]]\n",
    "    val_kn.append(np.concatenate(arrays))\n",
    "val0_k = np.linspace(val_min, val_max, n_windows)\n",
    "K_k = np.ones(n_windows) * fc"
   ]
  },
  {
   "cell_type": "code",
   "execution_count": 8,
   "metadata": {},
   "outputs": [
    {
     "name": "stdout",
     "output_type": "stream",
     "text": [
      "Window 00: range(0, 4320, 2)\n",
      "Window 01: range(0, 4320, 2)\n",
      "Window 02: range(0, 4320, 2)\n",
      "Window 03: range(0, 4320, 2)\n",
      "Window 04: range(0, 4320, 2)\n",
      "Window 05: range(0, 4320, 2)\n",
      "Window 06: range(0, 4320, 2)\n",
      "Window 07: range(0, 4320, 2)\n",
      "Window 08: range(0, 4320, 2)\n",
      "Window 09: range(0, 4320, 2)\n",
      "Window 10: range(0, 4320, 2)\n",
      "Window 11: range(0, 4320)\n",
      "Window 12: range(0, 4320, 2)\n",
      "Window 13: range(0, 4320, 2)\n",
      "Window 14: range(0, 4320, 2)\n",
      "Window 15: range(0, 4320, 2)\n",
      "Window 16: range(0, 4320, 2)\n",
      "Window 17: range(0, 4320, 3)\n",
      "Window 18: range(0, 4320, 3)\n",
      "Window 19: range(0, 4320, 3)\n",
      "Window 20: range(0, 4320, 4)\n",
      "Window 21: range(0, 4320, 3)\n",
      "Window 22: range(0, 4320, 3)\n",
      "Window 23: range(0, 4320, 3)\n",
      "Window 24: range(0, 4320, 3)\n",
      "Window 25: range(0, 4320, 3)\n",
      "Window 26: range(0, 4320, 3)\n",
      "Window 27: range(0, 4320, 3)\n",
      "Window 28: range(0, 4320, 2)\n",
      "Window 29: range(0, 4320, 2)\n",
      "Window 30: range(0, 4320, 2)\n",
      "Window 31: range(0, 4320, 2)\n",
      "Window 32: range(0, 4320, 2)\n",
      "Window 33: range(0, 4320, 2)\n",
      "Window 34: range(0, 4320, 2)\n",
      "Window 35: range(0, 4320, 3)\n",
      "Window 36: range(0, 4320, 2)\n",
      "Window 37: range(0, 4320, 3)\n",
      "Window 38: range(0, 4320, 3)\n",
      "Window 39: range(0, 4320, 3)\n",
      "Window 40: range(0, 4320, 2)\n",
      "Window 41: range(0, 4320, 2)\n"
     ]
    }
   ],
   "source": [
    "for i in range(n_windows):\n",
    "    print(\"Window %02d:\" % i, pymbar.timeseries.subsampleCorrelatedData(val_kn[i], conservative=True))"
   ]
  },
  {
   "cell_type": "code",
   "execution_count": 9,
   "metadata": {},
   "outputs": [
    {
     "name": "stdout",
     "output_type": "stream",
     "text": [
      "K (total states) = 42, total samples = 181440\n",
      "N_k = \n",
      "[4320 4320 4320 4320 4320 4320 4320 4320 4320 4320 4320 4320 4320 4320\n",
      " 4320 4320 4320 4320 4320 4320 4320 4320 4320 4320 4320 4320 4320 4320\n",
      " 4320 4320 4320 4320 4320 4320 4320 4320 4320 4320 4320 4320 4320 4320]\n",
      "There are 42 states with samples.\n",
      "Initial dimensionless free energies with method BAR\n",
      "f_k = \n",
      "[ 0.          0.17604966  0.62509638  1.33214313  2.45107979  3.7088232\n",
      "  4.84781657  6.14082562  7.87828969 10.06376706 12.07115782 14.21851511\n",
      " 16.67507912 19.29176847 21.93298361 24.80495648 27.96446873 30.81203376\n",
      " 33.30525296 35.74203202 38.1602146  39.2263641  38.90515719 38.40380405\n",
      " 37.45848472 36.12841996 34.67775712 32.66850312 30.51373847 28.48324234\n",
      " 26.83562856 26.01533937 25.30587587 24.26956539 23.42441905 22.5752032\n",
      " 21.87260903 21.66446369 21.47609735 21.91496687 22.35663474 22.35809535]\n",
      "Determining dimensionless free energies by Newton-Raphson / self-consistent iteration.\n",
      "self consistent iteration gradient norm is     1024.9, Newton-Raphson gradient norm is 0.00061337\n",
      "Choosing self-consistent iteration on iteration 0\n",
      "self consistent iteration gradient norm is     419.97, Newton-Raphson gradient norm is 3.7767e-05\n",
      "Choosing self-consistent iteration for lower gradient on iteration 1\n",
      "self consistent iteration gradient norm is     246.83, Newton-Raphson gradient norm is  6.691e-06\n",
      "Newton-Raphson used on iteration 2\n",
      "self consistent iteration gradient norm is  1.721e-06, Newton-Raphson gradient norm is 3.6439e-21\n",
      "Newton-Raphson used on iteration 3\n",
      "self consistent iteration gradient norm is 2.0022e-21, Newton-Raphson gradient norm is 3.1657e-21\n",
      "Choosing self-consistent iteration for lower gradient on iteration 4\n",
      "Converged to tolerance of 5.803667e-15 in 5 iterations.\n",
      "Of 5 iterations, 2 were Newton-Raphson iterations and 3 were self-consistent iterations\n",
      "Final dimensionless free energies\n",
      "f_k = \n",
      "[ 0.          0.17216713  0.62495782  1.33497605  2.44655714  3.69989005\n",
      "  4.84654469  6.14571065  7.87895497 10.0537257  12.06173493 14.21052961\n",
      " 16.66678381 19.28647823 21.93243397 24.80842252 27.96679161 30.82880681\n",
      " 33.32017016 35.76650415 38.1873388  39.24335104 38.9232676  38.41526592\n",
      " 37.4694104  36.13907674 34.6802343  32.68411881 30.53934709 28.51516788\n",
      " 26.87708031 26.04071521 25.32331082 24.29325877 23.45209159 22.61656427\n",
      " 21.92029701 21.69162966 21.5173112  21.93654298 22.36069086 22.36754027]\n",
      "MBAR initialization complete.\n"
     ]
    }
   ],
   "source": [
    "# mbar = mbar_pmf(val_kn, val0_k, K_k, 300.0, u_kn=np.array(ene_pm3))\n",
    "mbar = mbar_pmf(val_kn, val0_k, K_k, fc)"
   ]
  },
  {
   "cell_type": "code",
   "execution_count": 10,
   "metadata": {},
   "outputs": [],
   "source": [
    "bin_centers, f_i, df_i, reweighting_entropy = mbar.get_pmf(val_min, val_max, nbins)\n",
    "bin_centers, f_i, df_i, reweighting_entropy = mbar.get_pmf(val_min, val_max, nbins, uncertainties='from-specified', pmf_reference=f_i[:20].argmin())\n",
    "np.savetxt(\"freefile_mbar\", np.column_stack((bin_centers, f_i, df_i)))"
   ]
  },
  {
   "cell_type": "code",
   "execution_count": 11,
   "metadata": {},
   "outputs": [
    {
     "data": {
      "image/png": "[encoded data removed]",
      "text/plain": [
       "<Figure size 640x480 with 1 Axes>"
      ]
     },
     "metadata": {},
     "output_type": "display_data"
    },
    {
     "name": "stdout",
     "output_type": "stream",
     "text": [
      "23.4 0.1\n"
     ]
    }
   ],
   "source": [
    "initial = np.loadtxt(\"freefile_mbar\")\n",
    "plt.xlabel(\"R1 - R2 (Å)\")\n",
    "plt.ylabel(\"Potential of Mean Force (kcal/mol)\")\n",
    "\n",
    "plt.errorbar(initial[:,0], initial[:,1] - initial[:10,1].min(), yerr=initial[:,2], linewidth=1, label=\"DFT\")\n",
    "\n",
    "plt.legend(loc=2)\n",
    "plt.savefig(\"pmf.png\", dpi=300)\n",
    "plt.show()\n",
    "\n",
    "print(round(initial[:,1].max() - initial[:10,1].min(),1), round(initial[initial[:,1].argmax()][2],1))\n"
   ]
  },
  {
   "cell_type": "code",
   "execution_count": null,
   "metadata": {},
   "outputs": [],
   "source": []
  }
 ],
 "metadata": {
  "language_info": {
   "codemirror_mode": {
    "name": "ipython",
    "version": 3
   },
   "file_extension": ".py",
   "mimetype": "text/x-python",
   "name": "python",
   "nbconvert_exporter": "python",
   "pygments_lexer": "ipython3",
   "version": "3.11.8"
  },
  "widgets": {
   "application/vnd.jupyter.widget-state+json": {
    "state": {},
    "version_major": 2,
    "version_minor": 0
   }
  }
 },
 "nbformat": 4,
 "nbformat_minor": 4
}
