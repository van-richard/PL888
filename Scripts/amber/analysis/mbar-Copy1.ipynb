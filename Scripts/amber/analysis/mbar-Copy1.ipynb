{
 "cells": [
  {
   "cell_type": "markdown",
   "id": "18b8fb9e",
   "metadata": {},
   "source": [
    "# __MBAR Analysis__\n",
    "\n",
    "- Copy this noteboook/script to the `mbar/` directory of your project. \n",
    "\n",
    "- Includes sliding window (~rolling uncertainty) approach\n",
    "\n",
    "- Change simulation parameters, and then run all cells\n",
    "\n"
   ]
  },
  {
   "cell_type": "code",
   "execution_count": 1,
   "id": "a5e668e5-4947-442b-adcd-175f3f70c1de",
   "metadata": {},
   "outputs": [],
   "source": [
    "\n",
    "import os, sys\n",
    "from glob import glob\n",
    "import numpy as np\n",
    "import pandas as pd\n",
    "from scipy import stats\n",
    "from sklearn.utils import resample\n",
    "\n",
    "import pymbar\n",
    "from pymbar.mbar_pmf import mbar_pmf\n",
    "\n",
    "import matplotlib.pyplot as plt\n",
    "plt.rcParams['figure.constrained_layout.use'] = True\n",
    "plt.rcParams['figure.figsize'] = (5, 3.33)\n",
    "plt.rcParams['figure.dpi'] = 200\n",
    "plt.rcParams['axes.labelsize'] = 12\n",
    "plt.rcParams['axes.linewidth'] = 1\n",
    "plt.rcParams['axes.grid'] = True\n",
    "plt.rcParams['grid.linestyle'] = '--'\n",
    "plt.rcParams['grid.alpha'] = 0.4\n",
    "plt.rcParams['axes.xmargin'] = 0.1\n",
    "plt.rcParams['axes.ymargin'] = 0.25\n"
   ]
  },
  {
   "cell_type": "code",
   "execution_count": 43,
   "id": "61b5f647",
   "metadata": {},
   "outputs": [],
   "source": [
    "project_dir = '/scratch/samitha/mt2-b3lyp'\n",
    "# Simulation Parameters\n",
    "\n",
    "n_windows = 42           # Total number of umbrella windows\n",
    "cv_min = -1.90           # Restraint in first window\n",
    "cv_max = 2.20            # Restraint in last window\n",
    "force_constant = 300.0   # Multiply 'rk2'/'rk3' by 2 (in cv.rst this is rk2=150.0)\n"
   ]
  },
  {
   "cell_type": "code",
   "execution_count": 44,
   "id": "f84a23d9",
   "metadata": {},
   "outputs": [],
   "source": [
    "\n",
    "# Reference restraint values\n",
    "val0_k = np.linspace(cv_min, cv_max, n_windows)\n",
    "\n",
    "# Restraint force values ('rk2'/'rk3')\n",
    "K_k = np.ones(n_windows) * force_constant        \n",
    "\n",
    "# Number of bins \n",
    "nbins = n_windows - 1\n"
   ]
  },
  {
   "cell_type": "code",
   "execution_count": 45,
   "id": "87a0720e-e255-4873-9c88-0f59ca012a4d",
   "metadata": {},
   "outputs": [],
   "source": [
    "def concat_arrays(array, start, stop):\n",
    "    \"\"\"\n",
    "    Concatenate arrays and return a slice of the concatenated array.\n",
    "    \"\"\"\n",
    "    return np.concatenate(array)[start:stop]\n",
    "    \n",
    "def get_cv_value(dirname, windows, step):\n",
    "    \"\"\"\n",
    "    Load the CV values from the equilibration files. Change 'usecols=1' if necessary\n",
    "    \"\"\"\n",
    "    val_kn = []\n",
    "    for window in range(windows):\n",
    "        fnames = sorted(glob(f'{dirname}/{window:02d}/{step}.0?_equilibration.cv'))\n",
    "        arr = [np.loadtxt(f, usecols=1)[::] for f in fnames[:]]\n",
    "        val_kn.append(np.concatenate(arr)[:])\n",
    "    return val_kn\n",
    "    \n",
    "def subsample_data(val_kn):    \n",
    "    \"\"\"\n",
    "    Subsample correlated data using PyMBAR.\n",
    "    \"\"\"\n",
    "    for i in range(len(val_kn)):\n",
    "        print(\"Window %02d:\" % i, pymbar.timeseries.subsampleCorrelatedData(val_kn[i], conservative=True))\n",
    "\n",
    "\n",
    "def compute_pmf(val_kn, val0_k, K_k, force_constant):\n",
    "    \"\"\"\n",
    "    Estimate the free energy profile using MBAR.\n",
    "\n",
    "          val_kn (list of arrays )   : Array has shape  -- [ n_windows x CV values ]\n",
    "          outdir (results directory) : Directory to save results, new folders are indexed\n",
    "        filename (MBAR energies)     : NumPy file with MBAR energies / errors\n",
    "    frame_number (integer or None)   : Frame number of start frame in sliding uncertainty calculation\n",
    "    \"\"\"\n",
    "    mbar = mbar_pmf(val_kn, val0_k, K_k, force_constant)\n",
    "    bin_centers, f_i, df_i, reweighting_entropy = mbar.get_pmf(cv_min, cv_max, nbins)\n",
    "    bin_centers, f_i, df_i, reweighting_entropy = mbar.get_pmf(cv_min, cv_max, nbins, uncertainties='from-specified', pmf_reference=f_i[:20].argmin())\n",
    "    np.savetxt('f', np.column_stack((bin_centers, f_i, df_i)))\n",
    "    return bin_centers, f_i, df_i, reweighting_entropy \n",
    "    "
   ]
  },
  {
   "cell_type": "code",
   "execution_count": 46,
   "id": "c747ef2a-e633-45f9-89b0-533768d2aa4a",
   "metadata": {},
   "outputs": [
    {
     "name": "stdout",
     "output_type": "stream",
     "text": [
      "K (total states) = 42, total samples = 340200\n",
      "N_k = \n",
      "[8100 8100 8100 8100 8100 8100 8100 8100 8100 8100 8100 8100 8100 8100\n",
      " 8100 8100 8100 8100 8100 8100 8100 8100 8100 8100 8100 8100 8100 8100\n",
      " 8100 8100 8100 8100 8100 8100 8100 8100 8100 8100 8100 8100 8100 8100]\n",
      "There are 42 states with samples.\n",
      "Initial dimensionless free energies with method BAR\n",
      "f_k = \n",
      "[ 0.          2.70340093  5.46875067  8.31327076 11.38078389 14.66702853\n",
      " 17.98246289 21.51993609 25.33922071 29.4519548  33.93928742 38.57766788\n",
      " 43.50992829 48.85549171 54.35061137 59.71516428 64.48946212 68.85818492\n",
      " 72.39966004 75.24517498 76.90146527 77.43902769 76.74133264 74.71612676\n",
      " 71.79623555 68.20626998 64.26481058 60.44585557 56.90463875 52.6179339\n",
      " 48.93469676 46.21565226 44.57122283 43.96456363 43.654382   43.79344673\n",
      " 44.39842759 45.51314597 46.92152909 48.6816996  50.59891756 52.74097775]\n",
      "Determining dimensionless free energies by Newton-Raphson / self-consistent iteration.\n",
      "self consistent iteration gradient norm is      11515, Newton-Raphson gradient norm is    0.19699\n",
      "Choosing self-consistent iteration on iteration 0\n",
      "self consistent iteration gradient norm is     5544.3, Newton-Raphson gradient norm is   0.052341\n",
      "Choosing self-consistent iteration for lower gradient on iteration 1\n",
      "self consistent iteration gradient norm is     3436.3, Newton-Raphson gradient norm is   0.022721\n",
      "Newton-Raphson used on iteration 2\n",
      "self consistent iteration gradient norm is  0.0076031, Newton-Raphson gradient norm is 2.4044e-13\n",
      "Newton-Raphson used on iteration 3\n",
      "self consistent iteration gradient norm is 8.2028e-14, Newton-Raphson gradient norm is 3.9285e-20\n",
      "Newton-Raphson used on iteration 4\n",
      "self consistent iteration gradient norm is 1.3665e-20, Newton-Raphson gradient norm is 2.9012e-20\n",
      "Choosing self-consistent iteration for lower gradient on iteration 5\n",
      "Converged to tolerance of 4.876384e-16 in 6 iterations.\n",
      "Of 6 iterations, 3 were Newton-Raphson iterations and 3 were self-consistent iterations\n",
      "Final dimensionless free energies\n",
      "f_k = \n",
      "[ 0.          2.70093074  5.46416175  8.30638601 11.3766404  14.66784507\n",
      " 17.98034424 21.51302603 25.33313759 29.45615514 33.94454038 38.57814392\n",
      " 43.50226441 48.85481633 54.35749439 59.71931681 64.497334   68.85934154\n",
      " 72.40569793 75.2536725  76.90738219 77.44060815 76.7449081  74.71882154\n",
      " 71.79827982 68.20320671 64.26765843 60.45412039 56.90587735 52.70200037\n",
      " 49.01885041 46.31985751 44.66914247 44.00397071 43.69976127 43.84195231\n",
      " 44.45119117 45.55220409 46.95385696 48.71563193 50.6335266  52.77528317]\n",
      "MBAR initialization complete.\n"
     ]
    }
   ],
   "source": [
    "val_kn = get_cv_value(project_dir, n_windows, \"step6\")\n",
    "i,j,k,l = compute_pmf(val_kn, val0_k, K_k, force_constant)"
   ]
  },
  {
   "cell_type": "code",
   "execution_count": 47,
   "id": "737fd9c4-c34e-4dca-ae53-0c553d56a2fd",
   "metadata": {},
   "outputs": [],
   "source": [
    "def plot_mbar(freefiles, ref=None):\n",
    "    \"\"\"\n",
    "    Plot free energy profiles\n",
    "\n",
    "    Need to correct 'time' variable... legend etc.\n",
    "    \"\"\"\n",
    "\n",
    "    if ref is not None:\n",
    "        freefiles = ref + freefiles\n",
    "\n",
    "    for i in range(len(freefiles)):\n",
    "        initial = np.loadtxt(freefiles[i])\n",
    "\n",
    "        fe = float(initial[:,1].max() - initial[:10,1].min())\n",
    "        er = float(initial[initial[:,1].argmax()][2])\n",
    "        dg = str('%.1f ± %.1f' % (fe,er))\n",
    "        print(dg)\n",
    "\n",
    "        plt.errorbar(initial[:,0], initial[:,1] - initial[:10,1].min(), yerr=initial[:,2])\n",
    "\n",
    "    plt.legend(ncol=1, bbox_to_anchor = (1.3, 0.6), loc='center right', frameon=False, alignment='left')\n",
    "    plt.xlabel(\"d1 - d2 (Å)\")\n",
    "    plt.ylabel(\"Potential of Mean Force (kcal/mol)\")"
   ]
  },
  {
   "cell_type": "code",
   "execution_count": 48,
   "id": "813f8d34-c521-43a9-b78a-4418444452e2",
   "metadata": {},
   "outputs": [
    {
     "name": "stderr",
     "output_type": "stream",
     "text": [
      "No artists with labels found to put in legend.  Note that artists whose label start with an underscore are ignored when legend() is called with no argument.\n"
     ]
    },
    {
     "name": "stdout",
     "output_type": "stream",
     "text": [
      "45.1 ± 0.1\n"
     ]
    },
    {
     "data": {
      "image/png": "[encoded data removed]",
      "text/plain": [
       "<Figure size 1000x666 with 1 Axes>"
      ]
     },
     "metadata": {},
     "output_type": "display_data"
    }
   ],
   "source": [
    "plot_mbar('f')"
   ]
  },
  {
   "cell_type": "code",
   "execution_count": null,
   "id": "2725f2c9-2d65-478c-aba8-e8dd22649653",
   "metadata": {},
   "outputs": [],
   "source": [
    "if frame_number is None:\n",
    "        # Save freefile_mbar from all step6 trajectories \n",
    "        np.savetxt(f'{outdir}/{filename}', np.column_stack((bin_centers, f_i, df_i)))\n",
    "    else:\n",
    "        # Save freefile_mbar[Start frame Number] from sliding uncertainty\n",
    "        np.savetxt(f'{outdir}/{filename}{frame_number}', np.column_stack((bin_centers, f_i, df_i)))\n",
    "        "
   ]
  },
  {
   "cell_type": "code",
   "execution_count": null,
   "id": "462f023c-5848-43a5-8d16-ff1d8263418e",
   "metadata": {},
   "outputs": [],
   "source": [
    "     \n",
    "def length_of_arrays(arrays):\n",
    "    \"\"\"\n",
    "    Count number CV values and find the window with least CVs. This will be the cutoff for windows that are a few steps ahead \n",
    "    \"\"\"\n",
    "    length = []\n",
    "    for i in arrays:\n",
    "        length.append(len(i))\n",
    "    return min(length)\n",
    "\n"
   ]
  },
  {
   "cell_type": "code",
   "execution_count": null,
   "id": "1bed01bf-91ef-407e-b223-898a734f04cd",
   "metadata": {},
   "outputs": [],
   "source": []
  },
  {
   "cell_type": "code",
   "execution_count": null,
   "id": "3aff07b2-a572-49c6-8a39-2d0822b04271",
   "metadata": {},
   "outputs": [],
   "source": []
  },
  {
   "cell_type": "code",
   "execution_count": null,
   "id": "fbc4080d-7c2a-4f03-8ccb-06e96362b574",
   "metadata": {},
   "outputs": [],
   "source": [
    "def estimate_free_energy(windows, slide_by=5, dt=0.001, save_freq=10):\n",
    "    \"\"\"\n",
    "    Two approaches:\n",
    "        1. All trajectories (for each window) are concatenate and used to estimate the free energy profile\n",
    "            - Set 'slide_by=0' to run analysis on all trajectories.\n",
    "        2. Slide along a moving window (not umbrella window, but segment/portion of trajectory) to estimate the free energy profiles\n",
    "            - See how free energy profile converges over simulation time\n",
    "            - Set 'slide_by=5' to run analysis on sliding window of 5 ps.\n",
    "\n",
    "      windows (integer)    : Total number of umbrella windows\n",
    "     slide_by (picosecond) : Calculate MBAR via sliding window, e.g. calculate every 5 ps (segment) with entire trajectory\n",
    "           dt (picosecond) : Integration timestep (usually 0.001 ps ~ 1 fs)\n",
    "    save_freq (time-step)  : Saving frequency of CV values during simulation (usually 10 steps ~ 0.01 ps)\n",
    "    \"\"\"\n",
    "\n",
    "    if slide_by == 0:\n",
    "        # Option 1\n",
    "        out = output_directory()\n",
    "\n",
    "        val_kn = []\n",
    "        for window in range(windows):\n",
    "            arrays = load_cvs_from(window)\n",
    "            val_kn.append(np.concatenate(arrays))\n",
    "        run_mbar(val_kn, outdir=f'{out}')\n",
    "\n",
    "        plot_mbar(outdir=f'{out}')\n",
    "\n",
    "    else:\n",
    "        # Option 2 \n",
    "        out = output_directory()\n",
    "\n",
    "        # Convert ps to step, adjust for number of CV values in *.cv\n",
    "        slide = int(slide_by / dt / save_freq) \n",
    "       \n",
    "       # Get smallest number of CV values for analysis\n",
    "        max_length=length_of_arrays([np.concatenate(load_cvs_from(w)) for w in range(windows)])\n",
    "\n",
    "        for j in range(0, max_length, slide):\n",
    "            val_kn = []\n",
    "            for w in range(windows):\n",
    "                arrays = load_cvs_from(w)\n",
    "                val_kn.append(concatenate_arrays(arrays, start=j, stop=j+slide))\n",
    "            run_mbar(val_kn, outdir=f'{out}', frame_number='%04d' % j)\n",
    "\n",
    "        plot_mbar(outdir=f'{out}')\n",
    "        "
   ]
  },
  {
   "cell_type": "code",
   "execution_count": null,
   "id": "dd1ee5d9-8178-4ba6-a1a3-4274323f05b8",
   "metadata": {},
   "outputs": [],
   "source": []
  },
  {
   "cell_type": "code",
   "execution_count": null,
   "id": "5a290c3e-200d-48fe-9949-e99dca067586",
   "metadata": {},
   "outputs": [],
   "source": [
    "def output_directory(dirname=\"results\"):\n",
    "    \"\"\"\n",
    "    Create a new directory to save the results. Index directories by number of runs.\n",
    "    \"\"\"\n",
    "    number = len(glob(f'{dirname}*'))\n",
    "    output_dirname = f'{dirname}{number}'\n",
    "    os.makedirs(output_dirname, exist_ok=True)\n",
    "    return output_dirname\n",
    "\n",
    "\n",
    "def save_dataframe(outdir, time, dg):\n",
    "    \"\"\"\n",
    "    Save rolling window to CSV file\n",
    "    \"\"\"\n",
    "    df = pd.DataFrame(\n",
    "        {'Time (ps)': np.array(time),\n",
    "         'Free Energy Barrier (kcal/mol)': np.array(dg),\n",
    "         })\n",
    "    df.to_csv(f'{outdir}/pmf-dataframe.csv')\n",
    "    # df.to_latex(f'{outdir}/pmf-dataframe.tex', column_format='ccc',index=False)"
   ]
  },
  {
   "cell_type": "code",
   "execution_count": null,
   "id": "998aaef4-29a5-4606-8ec7-101fc04de1ef",
   "metadata": {},
   "outputs": [],
   "source": [
    "def plot_mbar(outdir, ref=None):\n",
    "    \"\"\"\n",
    "    Plot free energy profiles\n",
    "\n",
    "    Need to correct 'time' variable... legend etc.\n",
    "    \"\"\"\n",
    "    \n",
    "    fnames = sorted(glob(f'{outdir}/*'))\n",
    "\n",
    "    if ref is not None:\n",
    "        arr = ref + fnames\n",
    "    else:\n",
    "        arr = fnames\n",
    "\n",
    "\n",
    "    time = []\n",
    "    dg = []\n",
    "    colors = []\n",
    "    for i in range(len(arr)):\n",
    "        initial = np.loadtxt(arr[i])\n",
    "\n",
    "        # name = arr[i].split('_')[2]\n",
    "        # t0 = name.split('-')[0]\n",
    "        # ti = name.split('-')[1]\n",
    "        # lab = str('%s - %s ps' % (t0, ti))\n",
    "        time.append(i) \n",
    "        fe = float(initial[:,1].max() - initial[:10,1].min())\n",
    "        er = float(initial[initial[:,1].argmax()][2])\n",
    "        dg.append(str('%.1f ± %.1f' % (fe,er)))\n",
    "\n",
    "        plt.errorbar(initial[:,0], initial[:,1] - initial[:10,1].min(), yerr=initial[:,2])\n",
    "        # colors.append(np.array(plt.color_sequences)[i])\n",
    "\n",
    "    # plt.legend(ncol=1, bbox_to_anchor = (1.3, 0.6), loc='center right', frameon=False, alignment='left')\n",
    "    plt.xlabel(\"d1 - d2 (Å)\")\n",
    "    plt.ylabel(\"Potential of Mean Force (kcal/mol)\")\n",
    "    plt.savefig(f'{outdir}/pmf-sliding.png')\n",
    "    \n",
    "    # Save table\n",
    "    save_dataframe(outdir=f'{outdir}', time=time, dg=dg)"
   ]
  },
  {
   "cell_type": "code",
   "execution_count": null,
   "id": "92aea5b2-f067-4e8c-a356-111aef62971c",
   "metadata": {},
   "outputs": [],
   "source": [
    "arr = load_cvs_from(n_windows, step=\"step6\", path=None)"
   ]
  },
  {
   "cell_type": "code",
   "execution_count": null,
   "id": "9816d2d1-2656-4f1a-a88e-3750a8933d0a",
   "metadata": {
    "scrolled": true
   },
   "outputs": [],
   "source": [
    "estimate_free_energy(n_windows, slide_by=0)"
   ]
  },
  {
   "cell_type": "code",
   "execution_count": null,
   "id": "b953e2ff-86a0-456c-893a-2e5020fa9299",
   "metadata": {},
   "outputs": [],
   "source": [
    "# Plot using all CV values\n",
    "\n",
    "estimate_free_energy(n_windows, slide_by=0)\n"
   ]
  },
  {
   "cell_type": "code",
   "execution_count": null,
   "id": "9dcf5696",
   "metadata": {},
   "outputs": [],
   "source": [
    "# Plot using 5 ps segments\n",
    "\n",
    "estimate_free_energy(n_windows, slide_by=5)\n"
   ]
  }
 ],
 "metadata": {
  "kernelspec": {
   "display_name": "Python [conda env:mbar]",
   "language": "python",
   "name": "conda-env-mbar-py"
  },
  "language_info": {
   "codemirror_mode": {
    "name": "ipython",
    "version": 3
   },
   "file_extension": ".py",
   "mimetype": "text/x-python",
   "name": "python",
   "nbconvert_exporter": "python",
   "pygments_lexer": "ipython3",
   "version": "3.9.19"
  }
 },
 "nbformat": 4,
 "nbformat_minor": 5
}
